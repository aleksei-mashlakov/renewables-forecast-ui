{
 "cells": [
  {
   "cell_type": "markdown",
   "metadata": {},
   "source": [
    "# Notebook to download data from ELIA"
   ]
  },
  {
   "cell_type": "code",
   "execution_count": null,
   "metadata": {},
   "outputs": [],
   "source": [
    "%load_ext autoreload\n",
    "%autoreload 2"
   ]
  },
  {
   "cell_type": "code",
   "execution_count": null,
   "metadata": {},
   "outputs": [],
   "source": [
    "import datetime\n",
    "\n",
    "import polars as pl\n",
    "\n",
    "from wind_forecast_ui.elia import load_history_measurements\n",
    "from wind_forecast_ui.time import last_day_start_end"
   ]
  },
  {
   "cell_type": "code",
   "execution_count": null,
   "metadata": {},
   "outputs": [],
   "source": [
    "existing_data = pl.read_parquet(\"./data/target.parquet\")"
   ]
  },
  {
   "cell_type": "code",
   "execution_count": null,
   "metadata": {},
   "outputs": [],
   "source": [
    "start, end = last_day_start_end(\"CET\")\n",
    "start = datetime.datetime(2020, 1, 1, 0, 0, 0, tzinfo=datetime.UTC)\n",
    "start = max(existing_data[\"datetime\"].min(), start)"
   ]
  },
  {
   "cell_type": "code",
   "execution_count": null,
   "metadata": {},
   "outputs": [],
   "source": [
    "df = load_history_measurements(start, end)"
   ]
  },
  {
   "cell_type": "code",
   "execution_count": null,
   "metadata": {},
   "outputs": [],
   "source": [
    "df = (\n",
    "    df.rename({\"value\": \"measured\"})\n",
    "    .with_columns(pl.col(\"datetime\").dt.cast_time_unit(\"ms\"))\n",
    "    .with_columns(pl.col(\"measured\").truediv(\"monitoredcapacity\").alias(\"loadfactor\"))\n",
    "    .sort(\"datetime\", descending=False)\n",
    "    .with_columns(\n",
    "        pl.col(\"decrementalbidid\").str.replace(\",\", \"\").replace(\"''\", 0.0).cast(pl.Float64).truediv(1e3),\n",
    "    )\n",
    "    .with_columns(\n",
    "        pl.when(pl.col(\"decrementalbidid\") > 0)\n",
    "        .then(-pl.col(\"decrementalbidid\"))\n",
    "        .otherwise(pl.col(\"decrementalbidid\"))\n",
    "        .alias(\"decrementalbidid\")\n",
    "    )\n",
    "    # could be shifted by 1 hour or scaled differently\n",
    "    .with_columns((pl.col(\"measured\") - pl.col(\"decrementalbidid\")).alias(\"measured-decrementalbid\"))\n",
    "    .drop_nulls(subset=[\"measured\"])\n",
    ")"
   ]
  },
  {
   "cell_type": "code",
   "execution_count": null,
   "metadata": {},
   "outputs": [],
   "source": [
    "df = pl.concat([existing_data, df], how=\"vertical\").sort(\"datetime\", descending=False)"
   ]
  },
  {
   "cell_type": "code",
   "execution_count": null,
   "metadata": {},
   "outputs": [],
   "source": [
    "df = df.write_parquet(\"./data/target.parquet\")"
   ]
  }
 ],
 "metadata": {
  "kernelspec": {
   "display_name": "wind-forecast-ui",
   "language": "python",
   "name": "wind-forecast-ui"
  },
  "language_info": {
   "codemirror_mode": {
    "name": "ipython",
    "version": 3
   },
   "file_extension": ".py",
   "mimetype": "text/x-python",
   "name": "python",
   "nbconvert_exporter": "python",
   "pygments_lexer": "ipython3",
   "version": "3.13.2"
  }
 },
 "nbformat": 4,
 "nbformat_minor": 2
}
