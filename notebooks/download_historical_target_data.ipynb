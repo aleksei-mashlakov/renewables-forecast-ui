{
 "cells": [
  {
   "cell_type": "markdown",
   "metadata": {},
   "source": [
    "# Notebook to download data from ELIA"
   ]
  },
  {
   "cell_type": "code",
   "execution_count": 1,
   "metadata": {},
   "outputs": [],
   "source": [
    "%load_ext autoreload\n",
    "%autoreload 2"
   ]
  },
  {
   "cell_type": "code",
   "execution_count": null,
   "metadata": {},
   "outputs": [],
   "source": [
    "import datetime\n",
    "\n",
    "import polars as pl\n",
    "\n",
    "from forecast_ui.elia import EliaAPIClient, EliaDataset\n",
    "from forecast_ui.io import ForecastConfig, IODataManager\n",
    "from forecast_ui.time import last_day_start_end"
   ]
  },
  {
   "cell_type": "markdown",
   "metadata": {},
   "source": [
    "### Select the data you want to download\n",
    " - `data_type`: Type of data to download (e.g., 'solar', 'wind')\n",
    " - `start_date`: Start date for the data in 'YYYY-MM-DD' format\n",
    " - `end_date`: End date for the data in 'YYYY-MM-DD' format"
   ]
  },
  {
   "cell_type": "code",
   "execution_count": 3,
   "metadata": {},
   "outputs": [
    {
     "name": "stderr",
     "output_type": "stream",
     "text": [
      "Loading historical data: 100%|██████████| 28/28 [00:29<00:00,  1.06s/it]\n"
     ]
    }
   ],
   "source": [
    "FORECAST_TYPE = \"wind\"\n",
    "\n",
    "match FORECAST_TYPE:\n",
    "    case \"solar\":\n",
    "        existing_data = pl.read_parquet(\"./data/solar/target.parquet\")\n",
    "        start, end = last_day_start_end(\"CET\")\n",
    "        start = datetime.datetime(2020, 1, 1, 0, 0, 0, tzinfo=datetime.UTC)\n",
    "        start = max(existing_data[\"datetime\"].max(), start)\n",
    "        client = EliaAPIClient(EliaDataset.SOLAR_HISTORY)\n",
    "        df = client.load_history_measurements(start, end)\n",
    "        df = (\n",
    "            df.rename({\"value\": \"measured\"})\n",
    "            .with_columns(pl.col(\"datetime\").dt.cast_time_unit(\"ms\"))\n",
    "            .sort(\"datetime\", descending=False)\n",
    "            .drop_nulls(subset=[\"measured\"])\n",
    "        )\n",
    "        df = pl.concat([existing_data, df], how=\"vertical\").sort(\"datetime\", descending=False)\n",
    "        df.write_parquet(\"./data/solar/target.parquet\")\n",
    "    case \"wind\":\n",
    "        existing_data = pl.read_parquet(\"./data/wind/target.parquet\")\n",
    "        start, end = last_day_start_end(\"CET\")\n",
    "        start = datetime.datetime(2020, 1, 1, 0, 0, 0, tzinfo=datetime.UTC)\n",
    "        start = max(existing_data[\"datetime\"].max(), start)\n",
    "        client = EliaAPIClient(EliaDataset.WIND_HISTORY)\n",
    "        df = client.load_history_measurements(start, end)\n",
    "        df = (\n",
    "            df.rename({\"value\": \"measured\"})\n",
    "            .with_columns(pl.col(\"datetime\").dt.cast_time_unit(\"ms\"))\n",
    "            .with_columns(pl.col(\"measured\").truediv(\"monitoredcapacity\").alias(\"loadfactor\"))\n",
    "            .sort(\"datetime\", descending=False)\n",
    "            .with_columns(\n",
    "                pl.col(\"decrementalbidid\").str.replace(\",\", \"\").replace(\"''\", 0.0).cast(pl.Float64).truediv(1e3),\n",
    "            )\n",
    "            .with_columns(\n",
    "                pl.when(pl.col(\"decrementalbidid\") > 0)\n",
    "                .then(-pl.col(\"decrementalbidid\"))\n",
    "                .otherwise(pl.col(\"decrementalbidid\"))\n",
    "                .alias(\"decrementalbidid\")\n",
    "            )\n",
    "            # could be shifted by 1 hour or scaled differently\n",
    "            .with_columns((pl.col(\"measured\") - pl.col(\"decrementalbidid\")).alias(\"measured-decrementalbid\"))\n",
    "            .drop_nulls(subset=[\"measured\"])\n",
    "        )\n",
    "\n",
    "        df = pl.concat([existing_data, df], how=\"vertical\").sort(\"datetime\", descending=False)\n",
    "        df.write_parquet(\"./data/wind/target.parquet\")"
   ]
  },
  {
   "cell_type": "code",
   "execution_count": 21,
   "metadata": {},
   "outputs": [
    {
     "data": {
      "text/html": [
       "<div><style>\n",
       ".dataframe > thead > tr,\n",
       ".dataframe > tbody > tr {\n",
       "  text-align: right;\n",
       "  white-space: pre-wrap;\n",
       "}\n",
       "</style>\n",
       "<small>shape: (2_680, 7)</small><table border=\"1\" class=\"dataframe\"><thead><tr><th>datetime</th><th>measured</th><th>dayahead11hforecast</th><th>dayahead11hconfidence10</th><th>dayahead11hconfidence90</th><th>monitoredcapacity</th><th>loadfactor</th></tr><tr><td>datetime[ms, UTC]</td><td>f64</td><td>f64</td><td>f64</td><td>f64</td><td>f64</td><td>f64</td></tr></thead><tbody><tr><td>2025-06-01 00:00:00 UTC</td><td>1485.98</td><td>1404.9</td><td>982.6</td><td>1811.8</td><td>2261.0</td><td>0.657222</td></tr><tr><td>2025-06-01 00:15:00 UTC</td><td>1303.75</td><td>1394.8</td><td>976.2</td><td>1802.3</td><td>2261.0</td><td>0.576625</td></tr><tr><td>2025-06-01 00:30:00 UTC</td><td>1361.48</td><td>1380.4</td><td>965.5</td><td>1788.2</td><td>2261.0</td><td>0.602158</td></tr><tr><td>2025-06-01 00:45:00 UTC</td><td>1464.2</td><td>1362.1</td><td>945.2</td><td>1771.5</td><td>2261.0</td><td>0.64759</td></tr><tr><td>2025-06-01 01:00:00 UTC</td><td>1566.25</td><td>1267.4</td><td>842.6</td><td>1679.7</td><td>2261.0</td><td>0.692724</td></tr><tr><td>&hellip;</td><td>&hellip;</td><td>&hellip;</td><td>&hellip;</td><td>&hellip;</td><td>&hellip;</td><td>&hellip;</td></tr><tr><td>2025-06-28 20:45:00 UTC</td><td>1727.24</td><td>1465.1</td><td>841.3</td><td>2044.4</td><td>2262.1</td><td>0.763556</td></tr><tr><td>2025-06-28 21:00:00 UTC</td><td>1700.91</td><td>1438.4</td><td>799.2</td><td>2026.3</td><td>2262.1</td><td>0.751916</td></tr><tr><td>2025-06-28 21:15:00 UTC</td><td>1740.28</td><td>1412.4</td><td>760.9</td><td>2004.3</td><td>2262.1</td><td>0.769321</td></tr><tr><td>2025-06-28 21:30:00 UTC</td><td>1734.06</td><td>1386.6</td><td>722.5</td><td>1982.0</td><td>2262.1</td><td>0.766571</td></tr><tr><td>2025-06-28 21:45:00 UTC</td><td>1692.31</td><td>1360.6</td><td>690.2</td><td>1958.0</td><td>2262.1</td><td>0.748115</td></tr></tbody></table></div>"
      ],
      "text/plain": [
       "shape: (2_680, 7)\n",
       "┌──────────────┬──────────┬──────────────┬──────────────┬──────────────┬──────────────┬────────────┐\n",
       "│ datetime     ┆ measured ┆ dayahead11hf ┆ dayahead11hc ┆ dayahead11hc ┆ monitoredcap ┆ loadfactor │\n",
       "│ ---          ┆ ---      ┆ orecast      ┆ onfidence10  ┆ onfidence90  ┆ acity        ┆ ---        │\n",
       "│ datetime[ms, ┆ f64      ┆ ---          ┆ ---          ┆ ---          ┆ ---          ┆ f64        │\n",
       "│ UTC]         ┆          ┆ f64          ┆ f64          ┆ f64          ┆ f64          ┆            │\n",
       "╞══════════════╪══════════╪══════════════╪══════════════╪══════════════╪══════════════╪════════════╡\n",
       "│ 2025-06-01   ┆ 1485.98  ┆ 1404.9       ┆ 982.6        ┆ 1811.8       ┆ 2261.0       ┆ 0.657222   │\n",
       "│ 00:00:00 UTC ┆          ┆              ┆              ┆              ┆              ┆            │\n",
       "│ 2025-06-01   ┆ 1303.75  ┆ 1394.8       ┆ 976.2        ┆ 1802.3       ┆ 2261.0       ┆ 0.576625   │\n",
       "│ 00:15:00 UTC ┆          ┆              ┆              ┆              ┆              ┆            │\n",
       "│ 2025-06-01   ┆ 1361.48  ┆ 1380.4       ┆ 965.5        ┆ 1788.2       ┆ 2261.0       ┆ 0.602158   │\n",
       "│ 00:30:00 UTC ┆          ┆              ┆              ┆              ┆              ┆            │\n",
       "│ 2025-06-01   ┆ 1464.2   ┆ 1362.1       ┆ 945.2        ┆ 1771.5       ┆ 2261.0       ┆ 0.64759    │\n",
       "│ 00:45:00 UTC ┆          ┆              ┆              ┆              ┆              ┆            │\n",
       "│ 2025-06-01   ┆ 1566.25  ┆ 1267.4       ┆ 842.6        ┆ 1679.7       ┆ 2261.0       ┆ 0.692724   │\n",
       "│ 01:00:00 UTC ┆          ┆              ┆              ┆              ┆              ┆            │\n",
       "│ …            ┆ …        ┆ …            ┆ …            ┆ …            ┆ …            ┆ …          │\n",
       "│ 2025-06-28   ┆ 1727.24  ┆ 1465.1       ┆ 841.3        ┆ 2044.4       ┆ 2262.1       ┆ 0.763556   │\n",
       "│ 20:45:00 UTC ┆          ┆              ┆              ┆              ┆              ┆            │\n",
       "│ 2025-06-28   ┆ 1700.91  ┆ 1438.4       ┆ 799.2        ┆ 2026.3       ┆ 2262.1       ┆ 0.751916   │\n",
       "│ 21:00:00 UTC ┆          ┆              ┆              ┆              ┆              ┆            │\n",
       "│ 2025-06-28   ┆ 1740.28  ┆ 1412.4       ┆ 760.9        ┆ 2004.3       ┆ 2262.1       ┆ 0.769321   │\n",
       "│ 21:15:00 UTC ┆          ┆              ┆              ┆              ┆              ┆            │\n",
       "│ 2025-06-28   ┆ 1734.06  ┆ 1386.6       ┆ 722.5        ┆ 1982.0       ┆ 2262.1       ┆ 0.766571   │\n",
       "│ 21:30:00 UTC ┆          ┆              ┆              ┆              ┆              ┆            │\n",
       "│ 2025-06-28   ┆ 1692.31  ┆ 1360.6       ┆ 690.2        ┆ 1958.0       ┆ 2262.1       ┆ 0.748115   │\n",
       "│ 21:45:00 UTC ┆          ┆              ┆              ┆              ┆              ┆            │\n",
       "└──────────────┴──────────┴──────────────┴──────────────┴──────────────┴──────────────┴────────────┘"
      ]
     },
     "execution_count": 21,
     "metadata": {},
     "output_type": "execute_result"
    }
   ],
   "source": [
    "df"
   ]
  },
  {
   "cell_type": "code",
   "execution_count": null,
   "metadata": {},
   "outputs": [
    {
     "name": "stderr",
     "output_type": "stream",
     "text": [
      "Note: Environment variable`HF_TOKEN` is set and is the current active token independently from the token you've just configured.\n"
     ]
    },
    {
     "data": {
      "application/vnd.jupyter.widget-view+json": {
       "model_id": "1b30a226a8994bc1ba7cb3b06957a39a",
       "version_major": 2,
       "version_minor": 0
      },
      "text/plain": [
       "solar-forecasts.parquet:   0%|          | 0.00/159k [00:00<?, ?B/s]"
      ]
     },
     "metadata": {},
     "output_type": "display_data"
    },
    {
     "name": "stderr",
     "output_type": "stream",
     "text": [
      "\u001b[32m2025-06-29 23:17:42.367\u001b[0m | \u001b[1mINFO    \u001b[0m | \u001b[36mforecast_ui.io\u001b[0m:\u001b[36mupdate_forecast_file\u001b[0m:\u001b[36m97\u001b[0m - \u001b[1mForecast data successfully written to ./data/solar/forecast.json.\u001b[0m\n"
     ]
    }
   ],
   "source": [
    "io_manager = IODataManager(ForecastConfig.SOLAR)\n",
    "# io_manager.update_realtime_data()\n",
    "io_manager.update_forecast_file(\n",
    "    start=datetime.datetime(2025, 1, 1, 0, 0, 0, tzinfo=datetime.UTC),\n",
    "    end=datetime.datetime.now(datetime.UTC) - datetime.timedelta(days=1),\n",
    ")"
   ]
  },
  {
   "cell_type": "code",
   "execution_count": null,
   "metadata": {},
   "outputs": [],
   "source": [
    "io_manager.update_history_benchmark_file(\n",
    "    start=datetime.datetime(2025, 1, 1, 0, 0, 0, tzinfo=datetime.UTC),\n",
    "    end=datetime.datetime.now(datetime.UTC) - datetime.timedelta(days=1),\n",
    ")"
   ]
  },
  {
   "cell_type": "code",
   "execution_count": null,
   "metadata": {},
   "outputs": [],
   "source": [
    "datetime.datetime.utcnow()"
   ]
  },
  {
   "cell_type": "code",
   "execution_count": 22,
   "metadata": {},
   "outputs": [],
   "source": [
    "import polars as pl\n",
    "\n",
    "pl.DataFrame(schema={\"valid_time\": pl.Datetime, \"q10\": pl.Float64, \"q50\": pl.Float64, \"q90\": pl.Float64}).write_parquet(\n",
    "    \"data/solar/solar-forecasts.parquet\"\n",
    ")"
   ]
  },
  {
   "cell_type": "code",
   "execution_count": null,
   "metadata": {},
   "outputs": [],
   "source": []
  }
 ],
 "metadata": {
  "kernelspec": {
   "display_name": "wind-forecast-ui",
   "language": "python",
   "name": "wind-forecast-ui"
  },
  "language_info": {
   "codemirror_mode": {
    "name": "ipython",
    "version": 3
   },
   "file_extension": ".py",
   "mimetype": "text/x-python",
   "name": "python",
   "nbconvert_exporter": "python",
   "pygments_lexer": "ipython3",
   "version": "3.13.2"
  }
 },
 "nbformat": 4,
 "nbformat_minor": 2
}
